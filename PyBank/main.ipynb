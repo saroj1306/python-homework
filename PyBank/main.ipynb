{
 "cells": [
  {
   "cell_type": "code",
   "execution_count": 60,
   "id": "c82512b2-eaac-4f98-b94b-8aafcc0f8ba5",
   "metadata": {},
   "outputs": [
    {
     "name": "stdout",
     "output_type": "stream",
     "text": [
      "<_io.TextIOWrapper name='budget_data.csv' mode='r' encoding='UTF-8'>\n",
      "<class '_csv.reader'>\n",
      "['Date', 'Profit/Losses']\n"
     ]
    }
   ],
   "source": [
    "# Import the pathlib and csv library\n",
    "from pathlib import Path\n",
    "import csv\n",
    "\n",
    "# Set the file path\n",
    "csvpath = Path('budget_data.csv')\n",
    "total_no_months = 0\n",
    "total_profit_loss_amount = 0\n",
    "previous_total_profit_loss_amount = 0\n",
    "average_profit_loss = 0\n",
    "profit_loss_list = []\n",
    "greatest_increase_profit_month = ''\n",
    "greatest_increase_profit_amount = 0\n",
    "greatest_decrease_profit_month = ''\n",
    "greatest_decrease_profit_amount = 0\n",
    "records = []\n",
    "\n",
    "\n",
    "with open(csvpath, 'r') as csvfile:\n",
    "\n",
    "    # Print the datatype of the file object\n",
    "    print(csvfile)\n",
    "    csvreader = csv.reader(csvfile, delimiter=',')\n",
    "    # Print the datatype of the csvreader\n",
    "    print(type(csvreader))\n",
    "    csv_header = next(csvreader)\n",
    "    # Print the header\n",
    "    print(csv_header)\n",
    "    for row in csvreader:\n",
    "        # Print the row\n",
    "        #print(row)\n",
    "        date = row[0]\n",
    "        profit_losses = int(row[1])\n",
    "        \n",
    "        #Calculation for the total number of months included in the dataset.\n",
    "        total_no_months += 1\n",
    "        #Calculate the total profit loss\n",
    "        \n",
    "        total_profit_loss_amount += profit_losses\n",
    "        \n",
    "        profit_loss_list.append(int(row[1]))\n",
    "  \n",
    "          \n",
    "#for change in profit_loss_list\n",
    "#    if(profit_loss_list[change+1] - profit_loss_list[change])\n",
    "        \n",
    "\n",
    "\n",
    "    "
   ]
  },
  {
   "cell_type": "code",
   "execution_count": 61,
   "id": "891232fd-0885-4954-8ed1-04c9373bb860",
   "metadata": {},
   "outputs": [
    {
     "name": "stdout",
     "output_type": "stream",
     "text": [
      "Total Months: 86\n",
      "Total: $38382578\n",
      "0\n",
      "0\n"
     ]
    }
   ],
   "source": [
    "#The total number of months included in the dataset.\n",
    "print(f\"Total Months: {total_no_months}\")  \n",
    "#The net total amount of Profit/Losses over the entire period.\n",
    "print(f\"Total: ${total_profit_loss_amount}\")\n",
    "print(greatest_decrease_profit_amount)\n",
    "print(greatest_increase_profit_amount)\n"
   ]
  },
  {
   "cell_type": "code",
   "execution_count": null,
   "id": "bd969284-b1ea-44c3-baa5-52a1695b9be4",
   "metadata": {},
   "outputs": [],
   "source": []
  },
  {
   "cell_type": "code",
   "execution_count": 55,
   "id": "fd2f216d-fa29-4460-b00d-7b1d33c09791",
   "metadata": {},
   "outputs": [],
   "source": [
    "output = Path(\"output.txt\")\n",
    "with open(output, 'w') as file:\n",
    "    \n",
    "#Wite the records\n",
    "    file.write(\"Financial Analysis\")\n",
    "    file.write(\"\\n\")\n",
    "    file.write(\"----------------------------\")\n",
    "    file.write(\"\\n\")\n",
    "    file.write(f\"Total Months: {total_no_months}\")\n",
    "    file.write(\"\\n\")\n",
    "    file.write(f\"Total: ${total_profit_loss_amount}\")\n",
    "    file.write(\"\\n\")\n",
    "\n"
   ]
  },
  {
   "cell_type": "code",
   "execution_count": null,
   "id": "e4ed0d3a-d737-4ccf-b062-b8be2769e4f6",
   "metadata": {},
   "outputs": [],
   "source": []
  },
  {
   "cell_type": "code",
   "execution_count": null,
   "id": "2055a056-2096-4104-af1f-13feae255f2c",
   "metadata": {},
   "outputs": [],
   "source": []
  },
  {
   "cell_type": "code",
   "execution_count": null,
   "id": "cd2c32ed-16a7-46df-b13a-ad956a1f7aaa",
   "metadata": {},
   "outputs": [],
   "source": []
  },
  {
   "cell_type": "code",
   "execution_count": null,
   "id": "fc603428-7f7b-46d6-8fb7-916fa90d3023",
   "metadata": {},
   "outputs": [],
   "source": []
  },
  {
   "cell_type": "code",
   "execution_count": null,
   "id": "d65e6eb9-3a88-4b33-bb77-90f95efeb80b",
   "metadata": {},
   "outputs": [],
   "source": []
  },
  {
   "cell_type": "code",
   "execution_count": null,
   "id": "ea02495e-5282-4959-b3be-de3556a25613",
   "metadata": {},
   "outputs": [],
   "source": []
  },
  {
   "cell_type": "code",
   "execution_count": null,
   "id": "f0b10379-0057-44e8-a6a8-5c9daa600817",
   "metadata": {},
   "outputs": [],
   "source": []
  },
  {
   "cell_type": "code",
   "execution_count": null,
   "id": "e03083b3-2337-43a0-a4dd-542b55216c9b",
   "metadata": {},
   "outputs": [],
   "source": []
  },
  {
   "cell_type": "code",
   "execution_count": null,
   "id": "7d6dc274-5754-4aca-9532-71772eaf15ff",
   "metadata": {},
   "outputs": [],
   "source": []
  },
  {
   "cell_type": "code",
   "execution_count": 41,
   "id": "ab5980be-040e-45ea-9f71-7024421b49ff",
   "metadata": {},
   "outputs": [
    {
     "name": "stdout",
     "output_type": "stream",
     "text": [
      "Total Months: 86\n",
      "Total: $38382578\n",
      "35845212\n",
      "37711479\n"
     ]
    }
   ],
   "source": []
  },
  {
   "cell_type": "code",
   "execution_count": null,
   "id": "b087e86a-8f05-4ed7-ba28-8faf1789df34",
   "metadata": {},
   "outputs": [],
   "source": []
  },
  {
   "cell_type": "code",
   "execution_count": null,
   "id": "55338567-de9b-417a-902d-2b3cd57eddb1",
   "metadata": {},
   "outputs": [],
   "source": []
  },
  {
   "cell_type": "code",
   "execution_count": null,
   "id": "7ecfb8da-0641-44f3-9f71-2bf18c3f24ca",
   "metadata": {},
   "outputs": [],
   "source": []
  },
  {
   "cell_type": "code",
   "execution_count": null,
   "id": "a7da797f-8205-4237-a9a9-4eea7c305df7",
   "metadata": {},
   "outputs": [],
   "source": []
  },
  {
   "cell_type": "code",
   "execution_count": null,
   "id": "d5a69a3f-5ed5-4ae8-b7d6-d06443eadfa7",
   "metadata": {},
   "outputs": [],
   "source": []
  },
  {
   "cell_type": "code",
   "execution_count": null,
   "id": "d14d63ab-6695-49dd-acdf-42d52ba479f2",
   "metadata": {},
   "outputs": [],
   "source": []
  },
  {
   "cell_type": "code",
   "execution_count": 32,
   "id": "e82260a5-9743-4c7f-b7be-4eb26cae7285",
   "metadata": {},
   "outputs": [
    {
     "name": "stdout",
     "output_type": "stream",
     "text": [
      "Total: $38382578\n"
     ]
    }
   ],
   "source": []
  },
  {
   "cell_type": "code",
   "execution_count": null,
   "id": "e5b63f71-7312-4cbe-9ec3-5d350facd7bd",
   "metadata": {},
   "outputs": [],
   "source": []
  },
  {
   "cell_type": "code",
   "execution_count": null,
   "id": "83aece2e-82ec-439a-8c9a-fc3cd9eadfc0",
   "metadata": {},
   "outputs": [],
   "source": []
  },
  {
   "cell_type": "code",
   "execution_count": null,
   "id": "9448b402-ea23-41e6-bede-88a0a91cfa7e",
   "metadata": {},
   "outputs": [],
   "source": []
  },
  {
   "cell_type": "code",
   "execution_count": null,
   "id": "12433fb6-1f6a-4a12-9e35-c414ca8bcff0",
   "metadata": {},
   "outputs": [],
   "source": []
  },
  {
   "cell_type": "code",
   "execution_count": 25,
   "id": "fd3a85f6-a85c-4449-b8f3-329e47de48d9",
   "metadata": {},
   "outputs": [
    {
     "name": "stdout",
     "output_type": "stream",
     "text": [
      "Total Months: 86\n"
     ]
    }
   ],
   "source": [
    "#The total number of months included in the dataset.\n",
    "print(f\"Total Months: {total_no_months}\")  "
   ]
  },
  {
   "cell_type": "code",
   "execution_count": null,
   "id": "7a08a3d1-5212-4b33-98a5-2c407ea06ba8",
   "metadata": {},
   "outputs": [],
   "source": [
    "\n",
    "\n",
    "\n",
    "The net total amount of Profit/Losses over the entire period.\n",
    "#The total number of months included in the dataset.\n",
    "print(f\"Total Months: {total_profit_loss_amount}\")  \n",
    "\n",
    "The average of the changes in Profit/Losses over the entire period.\n",
    "\n",
    "\n",
    "The greatest increase in profits (date and amount) over the entire period.\n",
    "\n",
    "\n",
    "The greatest decrease in losses (date and amount) over the entire period."
   ]
  }
 ],
 "metadata": {
  "kernelspec": {
   "display_name": "Python 3 (ipykernel)",
   "language": "python",
   "name": "python3"
  },
  "language_info": {
   "codemirror_mode": {
    "name": "ipython",
    "version": 3
   },
   "file_extension": ".py",
   "mimetype": "text/x-python",
   "name": "python",
   "nbconvert_exporter": "python",
   "pygments_lexer": "ipython3",
   "version": "3.8.8"
  }
 },
 "nbformat": 4,
 "nbformat_minor": 5
}
